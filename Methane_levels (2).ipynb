{
 "cells": [
  {
   "cell_type": "raw",
   "id": "52a1cf70-7788-418c-8290-584ee6020878",
   "metadata": {},
   "source": [
    "https://climate.nasa.gov/vital-signs/methane/?intent=121"
   ]
  },
  {
   "cell_type": "code",
   "execution_count": 25,
   "id": "ca6b527e-fb08-4620-98f4-b0c54558037f",
   "metadata": {},
   "outputs": [],
   "source": []
  },
  {
   "cell_type": "code",
   "execution_count": 8,
   "id": "48652a54-c75a-44c4-b476-131ee1668371",
   "metadata": {},
   "outputs": [
    {
     "name": "stdout",
     "output_type": "stream",
     "text": [
      "   year  month   decimal  average  average_unc    trend  trend_unc\n",
      "0  1983      7  1983.542  1626.09         2.26  1635.14       1.45\n",
      "1  1983      8  1983.625  1628.01         2.88  1635.67       1.39\n",
      "2  1983      9  1983.708  1638.42         2.34  1636.25       1.32\n",
      "3  1983     10  1983.792  1644.81         1.50  1636.89       1.24\n",
      "4  1983     11  1983.875  1642.59         0.73  1637.60       1.16\n"
     ]
    },
    {
     "name": "stderr",
     "output_type": "stream",
     "text": [
      "<>:5: SyntaxWarning: invalid escape sequence '\\s'\n",
      "<>:5: SyntaxWarning: invalid escape sequence '\\s'\n",
      "C:\\Users\\hamro\\AppData\\Local\\Temp\\ipykernel_21332\\2929608878.py:5: SyntaxWarning: invalid escape sequence '\\s'\n",
      "  df = pd.read_csv(txt_file_path, sep='\\s+', header=0)  # Adjust the separator as needed\n"
     ]
    }
   ],
   "source": [
    "import pandas as pd\n",
    "\n",
    "def txt_to_csv(txt_file_path, csv_file_path):\n",
    "    # Read the contents of the .txt file into a DataFrame\n",
    "    df = pd.read_csv(txt_file_path, sep='\\s+', header=0)  # Adjust the separator as needed\n",
    "    \n",
    "    # Write the DataFrame to a .csv file\n",
    "    df.to_csv(csv_file_path, index=False)  # index=False to avoid writing row indices\n",
    "\n",
    "# Example usage\n",
    "txt_file = 'ch4_mm_gl.txt'  # Path to your .txt file\n",
    "csv_file = 'output.csv'  #\n",
    "\n",
    "txt_to_csv(txt_file, csv_file)\n",
    "\n",
    "print(pd.read_csv(csv_file).head())\n"
   ]
  },
  {
   "cell_type": "code",
   "execution_count": 9,
   "id": "362059ec-f7c0-4ee9-9f53-2e850fcf0360",
   "metadata": {},
   "outputs": [
    {
     "name": "stdout",
     "output_type": "stream",
     "text": [
      "   year  average\n",
      "0  1983  1626.09\n",
      "1  1983  1628.01\n",
      "2  1983  1638.42\n",
      "3  1983  1644.81\n",
      "4  1983  1642.59\n"
     ]
    }
   ],
   "source": [
    "\n",
    "# Read the CSV file into a DataFrame\n",
    "csv_file = 'output.csv'  # Path to your .csv file\n",
    "df = pd.read_csv(csv_file)\n",
    "\n",
    "# Select only the 'year' and 'average' columns\n",
    "df1 = df[['year', 'average']]\n",
    "\n",
    "# Display the first 5 lines of the new DataFrame\n",
    "print(df1.head())\n"
   ]
  },
  {
   "cell_type": "code",
   "execution_count": 33,
   "id": "ad645099-ac43-4399-858f-b0ad50582a6e",
   "metadata": {},
   "outputs": [],
   "source": []
  },
  {
   "cell_type": "code",
   "execution_count": null,
   "id": "65e245fd-6c0e-4ea9-b89d-74d4abc611ec",
   "metadata": {},
   "outputs": [],
   "source": []
  }
 ],
 "metadata": {
  "kernelspec": {
   "display_name": "Python 3 (ipykernel)",
   "language": "python",
   "name": "python3"
  },
  "language_info": {
   "codemirror_mode": {
    "name": "ipython",
    "version": 3
   },
   "file_extension": ".py",
   "mimetype": "text/x-python",
   "name": "python",
   "nbconvert_exporter": "python",
   "pygments_lexer": "ipython3",
   "version": "3.12.7"
  }
 },
 "nbformat": 4,
 "nbformat_minor": 5
}
